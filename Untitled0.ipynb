{
  "nbformat": 4,
  "nbformat_minor": 0,
  "metadata": {
    "colab": {
      "provenance": [],
      "collapsed_sections": [],
      "include_colab_link": true
    },
    "kernelspec": {
      "name": "python3",
      "display_name": "Python 3"
    },
    "language_info": {
      "name": "python"
    }
  },
  "cells": [
    {
      "cell_type": "markdown",
      "metadata": {
        "id": "view-in-github",
        "colab_type": "text"
      },
      "source": [
        "<a href=\"https://colab.research.google.com/github/AndreDem135/FirstRepository/blob/main/Untitled0.ipynb\" target=\"_parent\"><img src=\"https://colab.research.google.com/assets/colab-badge.svg\" alt=\"Open In Colab\"/></a>"
      ]
    },
    {
      "cell_type": "code",
      "source": [],
      "metadata": {
        "id": "I6JaNRlJr3FI"
      },
      "execution_count": null,
      "outputs": []
    },
    {
      "cell_type": "markdown",
      "source": [
        "Программа перевода по коду Хэмминга"
      ],
      "metadata": {
        "id": "Dokk9uAXQ2aw"
      }
    },
    {
      "cell_type": "code",
      "source": [
        "a='0123456789'\n",
        "nums=list(a)\n",
        "print(nums)"
      ],
      "metadata": {
        "colab": {
          "base_uri": "https://localhost:8080/"
        },
        "id": "QzGEJK5NQs9-",
        "outputId": "ffbcbbd0-981f-43ac-a87d-f14aa721caae"
      },
      "execution_count": 4,
      "outputs": [
        {
          "output_type": "stream",
          "name": "stdout",
          "text": [
            "['0', '1', '2', '3', '4', '5', '6', '7', '8', '9']\n"
          ]
        }
      ]
    },
    {
      "cell_type": "code",
      "source": [
        "b='0000000 000111 0010110 0011001 0100101 0101010 0110011 0111100 1000011 1001100'\n",
        "hem=b.split()\n",
        "del b\n",
        "print(hem)\n",
        "for i in range(len(hem)):\n",
        "  hem[i]=int(hem[i])\n",
        "print(hem)"
      ],
      "metadata": {
        "id": "APnZUlTrSFBE",
        "colab": {
          "base_uri": "https://localhost:8080/"
        },
        "outputId": "83d08e7c-97a0-4ced-a716-05dc07ffa6dc"
      },
      "execution_count": 2,
      "outputs": [
        {
          "output_type": "stream",
          "name": "stdout",
          "text": [
            "['0000000', '000111', '0010110', '0011001', '0100101', '0101010', '0110011', '0111100', '1000011', '1001100']\n",
            "[0, 111, 10110, 11001, 100101, 101010, 110011, 111100, 1000011, 1001100]\n"
          ]
        }
      ]
    },
    {
      "cell_type": "code",
      "source": [
        "def distance(x,y):\n",
        "  k=7\n",
        "  for i in range(7):\n",
        "    if x%10==y%10:\n",
        "      k=k-1\n",
        "    x=x//10\n",
        "    y=y//10\n",
        "  return k"
      ],
      "metadata": {
        "id": "KPFZTMTJVQvQ"
      },
      "execution_count": 3,
      "outputs": []
    },
    {
      "cell_type": "code",
      "source": [
        "cod=int(input(\"код=\"))"
      ],
      "metadata": {
        "id": "c77fF3oxWxp_",
        "colab": {
          "base_uri": "https://localhost:8080/"
        },
        "outputId": "9164dbbf-52cf-49b4-d67e-9f8af5dc5b61"
      },
      "execution_count": 5,
      "outputs": [
        {
          "name": "stdout",
          "output_type": "stream",
          "text": [
            "код=101010\n"
          ]
        }
      ]
    },
    {
      "cell_type": "code",
      "source": [
        "min=distance(cod,hem[0])\n",
        "imin=0\n",
        "for i in range(10):\n",
        "  D=distance(cod,hem[i])\n",
        "  if D<min:\n",
        "    min=D\n",
        "    imin=i\n",
        "if min==0:\n",
        "  print(f\"Код верный: символ {nums[imin]}\")\n",
        "elif min==1:\n",
        "  print(f\"Код исправлен: символ {nums[imin]}\")\n",
        "else:print(f\"Код неверный\")\n"
      ],
      "metadata": {
        "id": "ULLrpyquXMnx",
        "colab": {
          "base_uri": "https://localhost:8080/"
        },
        "outputId": "fcbc3987-fd64-4e84-b96c-ad3dd7319d46"
      },
      "execution_count": 6,
      "outputs": [
        {
          "output_type": "stream",
          "name": "stdout",
          "text": [
            "Код верный: символ 5\n"
          ]
        }
      ]
    }
  ]
}